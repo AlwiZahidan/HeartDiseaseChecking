{
  "cells": [
    {
      "cell_type": "markdown",
      "id": "4745e9b4-a2c8-4efc-b604-4d0f8247808a",
      "metadata": {
        "id": "4745e9b4-a2c8-4efc-b604-4d0f8247808a"
      },
      "source": [
        "# Pendahuluan\n",
        "\n",
        "Di dalam material ini, kamu akan mempelajari Data Heart Disease dan belajar bagaimana melakukan pemodelan. Lakukan kode dan jalankan setiap sel. Selama proses pembelajaran, kamu akan menemui beberapa blok **TODO** -- ikuti petunjuk untuk mengisinya sebelum menjalankan sel-sel tersebut dan melanjutkan."
      ]
    },
    {
      "cell_type": "code",
      "execution_count": null,
      "id": "6be0c8c8-6fc4-4c08-9be9-635dad5a4f8d",
      "metadata": {
        "id": "6be0c8c8-6fc4-4c08-9be9-635dad5a4f8d"
      },
      "outputs": [],
      "source": [
        "# Tahapan sebelumnya\n",
        "import numpy as np\n",
        "import pandas as pd\n",
        "import math\n",
        "import random\n",
        "import seaborn as sns\n",
        "from scipy.stats import pearsonr, jarque_bera\n",
        "import matplotlib.pyplot as plt\n",
        "from sklearn.preprocessing import StandardScaler\n",
        "from sklearn.model_selection import train_test_split\n",
        "from sklearn import tree\n",
        "from sklearn.ensemble import RandomForestClassifier\n",
        "from sklearn.tree import DecisionTreeClassifier\n",
        "from sklearn.decomposition import PCA\n",
        "from sklearn.metrics import accuracy_score, confusion_matrix, precision_score, recall_score, classification_report, confusion_matrix, f1_score\n",
        "from sklearn.model_selection import cross_val_score\n",
        "import warnings\n",
        "warnings.filterwarnings(\"ignore\")\n",
        "\n",
        "%matplotlib inline\n",
        "\n",
        "# Memuat dataset yang sudah rapi ditahapan sebelumnya\n",
        "data = \"data.csv\"\n",
        "df = pd.read_csv(data, index_col=0)\n",
        "df['sex'] = df['sex'].replace({'Male' : 1,'Female': 0})\n",
        "df['cp'] = df['cp'].replace({'typical angina' : 0, 'atypical angina' : 1, 'non-anginal pain' : 2, 'asymtomatic' : 3})\n",
        "df['fbs'] = df['fbs'].replace({'No' : 0, 'Yes' : 1})\n",
        "df['restecg'] = df['restecg'].replace({'probable or definite left ventricular hypertrophy':0,'normal':1,'ST-T Wave abnormal':2})\n",
        "df['exang'] = df['exang'].replace({'No':0,'Yes':1})\n",
        "df['slope'] = df['slope'].replace({'downsloping':0, 'flat':1,'upsloping':2})\n",
        "df['thal'] = df['thal'].replace({'normal':1, 'fixed defect':2,'reversable defect':3})\n",
        "df['ca'] = df['ca'].replace({'Number of major vessels: 0':0, 'Number of major vessels: 1':1,'Number of major vessels: 2':2, 'Number of major vessels: 3':3})\n",
        "df['target'] = df['target'].replace({'No disease':0,'Disease':1})\n",
        "\n",
        "'''TODO: Ambil variabel terpilih'''\n",
        "# Variabel terpilih\n",
        "df = df[['cp', 'thalach', 'slope', 'oldpeak', 'exang', 'ca', 'thal', 'sex', 'age','target']]"
      ]
    },
    {
      "cell_type": "code",
      "source": [
        "df.head()"
      ],
      "metadata": {
        "colab": {
          "base_uri": "https://localhost:8080/",
          "height": 206
        },
        "id": "NQblRdMxnPK9",
        "outputId": "0707b879-c608-4e93-e609-8a1b4ffa8413"
      },
      "id": "NQblRdMxnPK9",
      "execution_count": null,
      "outputs": [
        {
          "output_type": "execute_result",
          "data": {
            "text/plain": [
              "   cp  thalach  slope  oldpeak  exang  ca  thal  sex  age  target\n",
              "0   0      168      2      1.0      0   2     3    1   52       0\n",
              "1   0      155      0      3.1      1   0     3    1   53       0\n",
              "2   0      125      0      2.6      1   0     3    1   70       0\n",
              "3   0      161      2      0.0      0   1     3    1   61       0\n",
              "4   0      106      1      1.9      0   3     2    0   62       0"
            ],
            "text/html": [
              "\n",
              "  <div id=\"df-5bee92bc-c1f5-4370-bc28-cbf21897b8f9\" class=\"colab-df-container\">\n",
              "    <div>\n",
              "<style scoped>\n",
              "    .dataframe tbody tr th:only-of-type {\n",
              "        vertical-align: middle;\n",
              "    }\n",
              "\n",
              "    .dataframe tbody tr th {\n",
              "        vertical-align: top;\n",
              "    }\n",
              "\n",
              "    .dataframe thead th {\n",
              "        text-align: right;\n",
              "    }\n",
              "</style>\n",
              "<table border=\"1\" class=\"dataframe\">\n",
              "  <thead>\n",
              "    <tr style=\"text-align: right;\">\n",
              "      <th></th>\n",
              "      <th>cp</th>\n",
              "      <th>thalach</th>\n",
              "      <th>slope</th>\n",
              "      <th>oldpeak</th>\n",
              "      <th>exang</th>\n",
              "      <th>ca</th>\n",
              "      <th>thal</th>\n",
              "      <th>sex</th>\n",
              "      <th>age</th>\n",
              "      <th>target</th>\n",
              "    </tr>\n",
              "  </thead>\n",
              "  <tbody>\n",
              "    <tr>\n",
              "      <th>0</th>\n",
              "      <td>0</td>\n",
              "      <td>168</td>\n",
              "      <td>2</td>\n",
              "      <td>1.0</td>\n",
              "      <td>0</td>\n",
              "      <td>2</td>\n",
              "      <td>3</td>\n",
              "      <td>1</td>\n",
              "      <td>52</td>\n",
              "      <td>0</td>\n",
              "    </tr>\n",
              "    <tr>\n",
              "      <th>1</th>\n",
              "      <td>0</td>\n",
              "      <td>155</td>\n",
              "      <td>0</td>\n",
              "      <td>3.1</td>\n",
              "      <td>1</td>\n",
              "      <td>0</td>\n",
              "      <td>3</td>\n",
              "      <td>1</td>\n",
              "      <td>53</td>\n",
              "      <td>0</td>\n",
              "    </tr>\n",
              "    <tr>\n",
              "      <th>2</th>\n",
              "      <td>0</td>\n",
              "      <td>125</td>\n",
              "      <td>0</td>\n",
              "      <td>2.6</td>\n",
              "      <td>1</td>\n",
              "      <td>0</td>\n",
              "      <td>3</td>\n",
              "      <td>1</td>\n",
              "      <td>70</td>\n",
              "      <td>0</td>\n",
              "    </tr>\n",
              "    <tr>\n",
              "      <th>3</th>\n",
              "      <td>0</td>\n",
              "      <td>161</td>\n",
              "      <td>2</td>\n",
              "      <td>0.0</td>\n",
              "      <td>0</td>\n",
              "      <td>1</td>\n",
              "      <td>3</td>\n",
              "      <td>1</td>\n",
              "      <td>61</td>\n",
              "      <td>0</td>\n",
              "    </tr>\n",
              "    <tr>\n",
              "      <th>4</th>\n",
              "      <td>0</td>\n",
              "      <td>106</td>\n",
              "      <td>1</td>\n",
              "      <td>1.9</td>\n",
              "      <td>0</td>\n",
              "      <td>3</td>\n",
              "      <td>2</td>\n",
              "      <td>0</td>\n",
              "      <td>62</td>\n",
              "      <td>0</td>\n",
              "    </tr>\n",
              "  </tbody>\n",
              "</table>\n",
              "</div>\n",
              "    <div class=\"colab-df-buttons\">\n",
              "\n",
              "  <div class=\"colab-df-container\">\n",
              "    <button class=\"colab-df-convert\" onclick=\"convertToInteractive('df-5bee92bc-c1f5-4370-bc28-cbf21897b8f9')\"\n",
              "            title=\"Convert this dataframe to an interactive table.\"\n",
              "            style=\"display:none;\">\n",
              "\n",
              "  <svg xmlns=\"http://www.w3.org/2000/svg\" height=\"24px\" viewBox=\"0 -960 960 960\">\n",
              "    <path d=\"M120-120v-720h720v720H120Zm60-500h600v-160H180v160Zm220 220h160v-160H400v160Zm0 220h160v-160H400v160ZM180-400h160v-160H180v160Zm440 0h160v-160H620v160ZM180-180h160v-160H180v160Zm440 0h160v-160H620v160Z\"/>\n",
              "  </svg>\n",
              "    </button>\n",
              "\n",
              "  <style>\n",
              "    .colab-df-container {\n",
              "      display:flex;\n",
              "      gap: 12px;\n",
              "    }\n",
              "\n",
              "    .colab-df-convert {\n",
              "      background-color: #E8F0FE;\n",
              "      border: none;\n",
              "      border-radius: 50%;\n",
              "      cursor: pointer;\n",
              "      display: none;\n",
              "      fill: #1967D2;\n",
              "      height: 32px;\n",
              "      padding: 0 0 0 0;\n",
              "      width: 32px;\n",
              "    }\n",
              "\n",
              "    .colab-df-convert:hover {\n",
              "      background-color: #E2EBFA;\n",
              "      box-shadow: 0px 1px 2px rgba(60, 64, 67, 0.3), 0px 1px 3px 1px rgba(60, 64, 67, 0.15);\n",
              "      fill: #174EA6;\n",
              "    }\n",
              "\n",
              "    .colab-df-buttons div {\n",
              "      margin-bottom: 4px;\n",
              "    }\n",
              "\n",
              "    [theme=dark] .colab-df-convert {\n",
              "      background-color: #3B4455;\n",
              "      fill: #D2E3FC;\n",
              "    }\n",
              "\n",
              "    [theme=dark] .colab-df-convert:hover {\n",
              "      background-color: #434B5C;\n",
              "      box-shadow: 0px 1px 3px 1px rgba(0, 0, 0, 0.15);\n",
              "      filter: drop-shadow(0px 1px 2px rgba(0, 0, 0, 0.3));\n",
              "      fill: #FFFFFF;\n",
              "    }\n",
              "  </style>\n",
              "\n",
              "    <script>\n",
              "      const buttonEl =\n",
              "        document.querySelector('#df-5bee92bc-c1f5-4370-bc28-cbf21897b8f9 button.colab-df-convert');\n",
              "      buttonEl.style.display =\n",
              "        google.colab.kernel.accessAllowed ? 'block' : 'none';\n",
              "\n",
              "      async function convertToInteractive(key) {\n",
              "        const element = document.querySelector('#df-5bee92bc-c1f5-4370-bc28-cbf21897b8f9');\n",
              "        const dataTable =\n",
              "          await google.colab.kernel.invokeFunction('convertToInteractive',\n",
              "                                                    [key], {});\n",
              "        if (!dataTable) return;\n",
              "\n",
              "        const docLinkHtml = 'Like what you see? Visit the ' +\n",
              "          '<a target=\"_blank\" href=https://colab.research.google.com/notebooks/data_table.ipynb>data table notebook</a>'\n",
              "          + ' to learn more about interactive tables.';\n",
              "        element.innerHTML = '';\n",
              "        dataTable['output_type'] = 'display_data';\n",
              "        await google.colab.output.renderOutput(dataTable, element);\n",
              "        const docLink = document.createElement('div');\n",
              "        docLink.innerHTML = docLinkHtml;\n",
              "        element.appendChild(docLink);\n",
              "      }\n",
              "    </script>\n",
              "  </div>\n",
              "\n",
              "\n",
              "<div id=\"df-3b66ade2-5ff8-43b9-b874-34f22ab3ab7d\">\n",
              "  <button class=\"colab-df-quickchart\" onclick=\"quickchart('df-3b66ade2-5ff8-43b9-b874-34f22ab3ab7d')\"\n",
              "            title=\"Suggest charts.\"\n",
              "            style=\"display:none;\">\n",
              "\n",
              "<svg xmlns=\"http://www.w3.org/2000/svg\" height=\"24px\"viewBox=\"0 0 24 24\"\n",
              "     width=\"24px\">\n",
              "    <g>\n",
              "        <path d=\"M19 3H5c-1.1 0-2 .9-2 2v14c0 1.1.9 2 2 2h14c1.1 0 2-.9 2-2V5c0-1.1-.9-2-2-2zM9 17H7v-7h2v7zm4 0h-2V7h2v10zm4 0h-2v-4h2v4z\"/>\n",
              "    </g>\n",
              "</svg>\n",
              "  </button>\n",
              "\n",
              "<style>\n",
              "  .colab-df-quickchart {\n",
              "    background-color: #E8F0FE;\n",
              "    border: none;\n",
              "    border-radius: 50%;\n",
              "    cursor: pointer;\n",
              "    display: none;\n",
              "    fill: #1967D2;\n",
              "    height: 32px;\n",
              "    padding: 0 0 0 0;\n",
              "    width: 32px;\n",
              "  }\n",
              "\n",
              "  .colab-df-quickchart:hover {\n",
              "    background-color: #E2EBFA;\n",
              "    box-shadow: 0px 1px 2px rgba(60, 64, 67, 0.3), 0px 1px 3px 1px rgba(60, 64, 67, 0.15);\n",
              "    fill: #174EA6;\n",
              "  }\n",
              "\n",
              "  [theme=dark] .colab-df-quickchart {\n",
              "    background-color: #3B4455;\n",
              "    fill: #D2E3FC;\n",
              "  }\n",
              "\n",
              "  [theme=dark] .colab-df-quickchart:hover {\n",
              "    background-color: #434B5C;\n",
              "    box-shadow: 0px 1px 3px 1px rgba(0, 0, 0, 0.15);\n",
              "    filter: drop-shadow(0px 1px 2px rgba(0, 0, 0, 0.3));\n",
              "    fill: #FFFFFF;\n",
              "  }\n",
              "</style>\n",
              "\n",
              "  <script>\n",
              "    async function quickchart(key) {\n",
              "      const charts = await google.colab.kernel.invokeFunction(\n",
              "          'suggestCharts', [key], {});\n",
              "    }\n",
              "    (() => {\n",
              "      let quickchartButtonEl =\n",
              "        document.querySelector('#df-3b66ade2-5ff8-43b9-b874-34f22ab3ab7d button');\n",
              "      quickchartButtonEl.style.display =\n",
              "        google.colab.kernel.accessAllowed ? 'block' : 'none';\n",
              "    })();\n",
              "  </script>\n",
              "</div>\n",
              "    </div>\n",
              "  </div>\n"
            ]
          },
          "metadata": {},
          "execution_count": 13
        }
      ]
    },
    {
      "cell_type": "code",
      "execution_count": null,
      "id": "b4adabc5-60a8-415d-a5a0-b553e7d8a87d",
      "metadata": {
        "id": "b4adabc5-60a8-415d-a5a0-b553e7d8a87d",
        "colab": {
          "base_uri": "https://localhost:8080/"
        },
        "outputId": "059ba718-886b-43eb-a006-b913dfac3a70"
      },
      "outputs": [
        {
          "output_type": "stream",
          "name": "stdout",
          "text": [
            "   cp  thalach  slope  oldpeak  exang  ca  thal  sex  age  target\n",
            "0   0      168      2      1.0      0   2     3    1   52       0\n",
            "1   0      155      0      3.1      1   0     3    1   53       0\n",
            "2   0      125      0      2.6      1   0     3    1   70       0\n",
            "3   0      161      2      0.0      0   1     3    1   61       0\n",
            "4   0      106      1      1.9      0   3     2    0   62       0\n",
            "Index(['cp', 'thalach', 'slope', 'oldpeak', 'exang', 'ca', 'thal', 'sex',\n",
            "       'age', 'target'],\n",
            "      dtype='object')\n"
          ]
        }
      ],
      "source": [
        "'''TODO: Buatlah pengalian informasi dari data teratas dan liat kolomsnya'''\n",
        "# Liat informasi dari dataset yang kita miliki\n",
        "print(df.head())\n",
        "print(df.columns)"
      ]
    },
    {
      "cell_type": "markdown",
      "id": "5edfdf87-fcc6-4d31-a2fa-553d637f9520",
      "metadata": {
        "id": "5edfdf87-fcc6-4d31-a2fa-553d637f9520"
      },
      "source": [
        "**Memisahkan variabel dependen dan independen**\n",
        "\n",
        "Variabel dependen yang digunakan adalah data pada kolom 'target', kolom feature merupakan variabel independen. Disini kamu akan membuat variabel X menggunakan .isin() untuk semua kolom kecuali kolom target, kemudian variabel y yang hanya kolom target saja."
      ]
    },
    {
      "cell_type": "code",
      "execution_count": null,
      "id": "26a4d08e-afb2-4db0-b3da-895cb82abd68",
      "metadata": {
        "id": "26a4d08e-afb2-4db0-b3da-895cb82abd68"
      },
      "outputs": [],
      "source": [
        "'''TODO: Pisahkan variabel X dan y'''\n",
        "# Define X and y\n",
        "X = df.drop('target', axis=1)\n",
        "y = df.target"
      ]
    },
    {
      "cell_type": "code",
      "execution_count": null,
      "id": "26abfd13-2e3d-420c-8d54-24062994a6ef",
      "metadata": {
        "id": "26abfd13-2e3d-420c-8d54-24062994a6ef",
        "colab": {
          "base_uri": "https://localhost:8080/",
          "height": 206
        },
        "outputId": "73bbd43f-982c-40b6-b7b5-df4a3586e8ec"
      },
      "outputs": [
        {
          "output_type": "execute_result",
          "data": {
            "text/plain": [
              "   cp  thalach  slope  oldpeak  exang  ca  thal  sex  age\n",
              "0   0      168      2      1.0      0   2     3    1   52\n",
              "1   0      155      0      3.1      1   0     3    1   53\n",
              "2   0      125      0      2.6      1   0     3    1   70\n",
              "3   0      161      2      0.0      0   1     3    1   61\n",
              "4   0      106      1      1.9      0   3     2    0   62"
            ],
            "text/html": [
              "\n",
              "  <div id=\"df-00060d7b-51c4-4f07-bbe5-dcf78a95ee78\" class=\"colab-df-container\">\n",
              "    <div>\n",
              "<style scoped>\n",
              "    .dataframe tbody tr th:only-of-type {\n",
              "        vertical-align: middle;\n",
              "    }\n",
              "\n",
              "    .dataframe tbody tr th {\n",
              "        vertical-align: top;\n",
              "    }\n",
              "\n",
              "    .dataframe thead th {\n",
              "        text-align: right;\n",
              "    }\n",
              "</style>\n",
              "<table border=\"1\" class=\"dataframe\">\n",
              "  <thead>\n",
              "    <tr style=\"text-align: right;\">\n",
              "      <th></th>\n",
              "      <th>cp</th>\n",
              "      <th>thalach</th>\n",
              "      <th>slope</th>\n",
              "      <th>oldpeak</th>\n",
              "      <th>exang</th>\n",
              "      <th>ca</th>\n",
              "      <th>thal</th>\n",
              "      <th>sex</th>\n",
              "      <th>age</th>\n",
              "    </tr>\n",
              "  </thead>\n",
              "  <tbody>\n",
              "    <tr>\n",
              "      <th>0</th>\n",
              "      <td>0</td>\n",
              "      <td>168</td>\n",
              "      <td>2</td>\n",
              "      <td>1.0</td>\n",
              "      <td>0</td>\n",
              "      <td>2</td>\n",
              "      <td>3</td>\n",
              "      <td>1</td>\n",
              "      <td>52</td>\n",
              "    </tr>\n",
              "    <tr>\n",
              "      <th>1</th>\n",
              "      <td>0</td>\n",
              "      <td>155</td>\n",
              "      <td>0</td>\n",
              "      <td>3.1</td>\n",
              "      <td>1</td>\n",
              "      <td>0</td>\n",
              "      <td>3</td>\n",
              "      <td>1</td>\n",
              "      <td>53</td>\n",
              "    </tr>\n",
              "    <tr>\n",
              "      <th>2</th>\n",
              "      <td>0</td>\n",
              "      <td>125</td>\n",
              "      <td>0</td>\n",
              "      <td>2.6</td>\n",
              "      <td>1</td>\n",
              "      <td>0</td>\n",
              "      <td>3</td>\n",
              "      <td>1</td>\n",
              "      <td>70</td>\n",
              "    </tr>\n",
              "    <tr>\n",
              "      <th>3</th>\n",
              "      <td>0</td>\n",
              "      <td>161</td>\n",
              "      <td>2</td>\n",
              "      <td>0.0</td>\n",
              "      <td>0</td>\n",
              "      <td>1</td>\n",
              "      <td>3</td>\n",
              "      <td>1</td>\n",
              "      <td>61</td>\n",
              "    </tr>\n",
              "    <tr>\n",
              "      <th>4</th>\n",
              "      <td>0</td>\n",
              "      <td>106</td>\n",
              "      <td>1</td>\n",
              "      <td>1.9</td>\n",
              "      <td>0</td>\n",
              "      <td>3</td>\n",
              "      <td>2</td>\n",
              "      <td>0</td>\n",
              "      <td>62</td>\n",
              "    </tr>\n",
              "  </tbody>\n",
              "</table>\n",
              "</div>\n",
              "    <div class=\"colab-df-buttons\">\n",
              "\n",
              "  <div class=\"colab-df-container\">\n",
              "    <button class=\"colab-df-convert\" onclick=\"convertToInteractive('df-00060d7b-51c4-4f07-bbe5-dcf78a95ee78')\"\n",
              "            title=\"Convert this dataframe to an interactive table.\"\n",
              "            style=\"display:none;\">\n",
              "\n",
              "  <svg xmlns=\"http://www.w3.org/2000/svg\" height=\"24px\" viewBox=\"0 -960 960 960\">\n",
              "    <path d=\"M120-120v-720h720v720H120Zm60-500h600v-160H180v160Zm220 220h160v-160H400v160Zm0 220h160v-160H400v160ZM180-400h160v-160H180v160Zm440 0h160v-160H620v160ZM180-180h160v-160H180v160Zm440 0h160v-160H620v160Z\"/>\n",
              "  </svg>\n",
              "    </button>\n",
              "\n",
              "  <style>\n",
              "    .colab-df-container {\n",
              "      display:flex;\n",
              "      gap: 12px;\n",
              "    }\n",
              "\n",
              "    .colab-df-convert {\n",
              "      background-color: #E8F0FE;\n",
              "      border: none;\n",
              "      border-radius: 50%;\n",
              "      cursor: pointer;\n",
              "      display: none;\n",
              "      fill: #1967D2;\n",
              "      height: 32px;\n",
              "      padding: 0 0 0 0;\n",
              "      width: 32px;\n",
              "    }\n",
              "\n",
              "    .colab-df-convert:hover {\n",
              "      background-color: #E2EBFA;\n",
              "      box-shadow: 0px 1px 2px rgba(60, 64, 67, 0.3), 0px 1px 3px 1px rgba(60, 64, 67, 0.15);\n",
              "      fill: #174EA6;\n",
              "    }\n",
              "\n",
              "    .colab-df-buttons div {\n",
              "      margin-bottom: 4px;\n",
              "    }\n",
              "\n",
              "    [theme=dark] .colab-df-convert {\n",
              "      background-color: #3B4455;\n",
              "      fill: #D2E3FC;\n",
              "    }\n",
              "\n",
              "    [theme=dark] .colab-df-convert:hover {\n",
              "      background-color: #434B5C;\n",
              "      box-shadow: 0px 1px 3px 1px rgba(0, 0, 0, 0.15);\n",
              "      filter: drop-shadow(0px 1px 2px rgba(0, 0, 0, 0.3));\n",
              "      fill: #FFFFFF;\n",
              "    }\n",
              "  </style>\n",
              "\n",
              "    <script>\n",
              "      const buttonEl =\n",
              "        document.querySelector('#df-00060d7b-51c4-4f07-bbe5-dcf78a95ee78 button.colab-df-convert');\n",
              "      buttonEl.style.display =\n",
              "        google.colab.kernel.accessAllowed ? 'block' : 'none';\n",
              "\n",
              "      async function convertToInteractive(key) {\n",
              "        const element = document.querySelector('#df-00060d7b-51c4-4f07-bbe5-dcf78a95ee78');\n",
              "        const dataTable =\n",
              "          await google.colab.kernel.invokeFunction('convertToInteractive',\n",
              "                                                    [key], {});\n",
              "        if (!dataTable) return;\n",
              "\n",
              "        const docLinkHtml = 'Like what you see? Visit the ' +\n",
              "          '<a target=\"_blank\" href=https://colab.research.google.com/notebooks/data_table.ipynb>data table notebook</a>'\n",
              "          + ' to learn more about interactive tables.';\n",
              "        element.innerHTML = '';\n",
              "        dataTable['output_type'] = 'display_data';\n",
              "        await google.colab.output.renderOutput(dataTable, element);\n",
              "        const docLink = document.createElement('div');\n",
              "        docLink.innerHTML = docLinkHtml;\n",
              "        element.appendChild(docLink);\n",
              "      }\n",
              "    </script>\n",
              "  </div>\n",
              "\n",
              "\n",
              "<div id=\"df-688ab1ca-edf9-4c6a-a572-48e22b99ac2e\">\n",
              "  <button class=\"colab-df-quickchart\" onclick=\"quickchart('df-688ab1ca-edf9-4c6a-a572-48e22b99ac2e')\"\n",
              "            title=\"Suggest charts.\"\n",
              "            style=\"display:none;\">\n",
              "\n",
              "<svg xmlns=\"http://www.w3.org/2000/svg\" height=\"24px\"viewBox=\"0 0 24 24\"\n",
              "     width=\"24px\">\n",
              "    <g>\n",
              "        <path d=\"M19 3H5c-1.1 0-2 .9-2 2v14c0 1.1.9 2 2 2h14c1.1 0 2-.9 2-2V5c0-1.1-.9-2-2-2zM9 17H7v-7h2v7zm4 0h-2V7h2v10zm4 0h-2v-4h2v4z\"/>\n",
              "    </g>\n",
              "</svg>\n",
              "  </button>\n",
              "\n",
              "<style>\n",
              "  .colab-df-quickchart {\n",
              "    background-color: #E8F0FE;\n",
              "    border: none;\n",
              "    border-radius: 50%;\n",
              "    cursor: pointer;\n",
              "    display: none;\n",
              "    fill: #1967D2;\n",
              "    height: 32px;\n",
              "    padding: 0 0 0 0;\n",
              "    width: 32px;\n",
              "  }\n",
              "\n",
              "  .colab-df-quickchart:hover {\n",
              "    background-color: #E2EBFA;\n",
              "    box-shadow: 0px 1px 2px rgba(60, 64, 67, 0.3), 0px 1px 3px 1px rgba(60, 64, 67, 0.15);\n",
              "    fill: #174EA6;\n",
              "  }\n",
              "\n",
              "  [theme=dark] .colab-df-quickchart {\n",
              "    background-color: #3B4455;\n",
              "    fill: #D2E3FC;\n",
              "  }\n",
              "\n",
              "  [theme=dark] .colab-df-quickchart:hover {\n",
              "    background-color: #434B5C;\n",
              "    box-shadow: 0px 1px 3px 1px rgba(0, 0, 0, 0.15);\n",
              "    filter: drop-shadow(0px 1px 2px rgba(0, 0, 0, 0.3));\n",
              "    fill: #FFFFFF;\n",
              "  }\n",
              "</style>\n",
              "\n",
              "  <script>\n",
              "    async function quickchart(key) {\n",
              "      const charts = await google.colab.kernel.invokeFunction(\n",
              "          'suggestCharts', [key], {});\n",
              "    }\n",
              "    (() => {\n",
              "      let quickchartButtonEl =\n",
              "        document.querySelector('#df-688ab1ca-edf9-4c6a-a572-48e22b99ac2e button');\n",
              "      quickchartButtonEl.style.display =\n",
              "        google.colab.kernel.accessAllowed ? 'block' : 'none';\n",
              "    })();\n",
              "  </script>\n",
              "</div>\n",
              "    </div>\n",
              "  </div>\n"
            ]
          },
          "metadata": {},
          "execution_count": 16
        }
      ],
      "source": [
        "# Melihat kolom yang termasuk variable indepnden\n",
        "X.head()"
      ]
    },
    {
      "cell_type": "code",
      "execution_count": null,
      "id": "0313e11c-7eca-4877-a3aa-003080ed469e",
      "metadata": {
        "id": "0313e11c-7eca-4877-a3aa-003080ed469e",
        "colab": {
          "base_uri": "https://localhost:8080/"
        },
        "outputId": "334f6349-70a6-4237-e24c-138c4ed85141"
      },
      "outputs": [
        {
          "output_type": "execute_result",
          "data": {
            "text/plain": [
              "0    0\n",
              "1    0\n",
              "2    0\n",
              "3    0\n",
              "4    0\n",
              "Name: target, dtype: int64"
            ]
          },
          "metadata": {},
          "execution_count": 17
        }
      ],
      "source": [
        "# Melihat variabel dependen\n",
        "y.head()"
      ]
    },
    {
      "cell_type": "code",
      "execution_count": null,
      "id": "a6fadbca-9977-4b82-8126-f14bff6b6c0e",
      "metadata": {
        "id": "a6fadbca-9977-4b82-8126-f14bff6b6c0e"
      },
      "outputs": [],
      "source": [
        "'''TODO: Buatlah scaling data'''\n",
        "# Mendefinisikan standard scaler\n",
        "scaler = StandardScaler()\n",
        "X_scaled = scaler.fit_transform(X)"
      ]
    },
    {
      "cell_type": "markdown",
      "id": "3a5aaf16-9e3f-4f85-a6a7-d0478198940f",
      "metadata": {
        "id": "3a5aaf16-9e3f-4f85-a6a7-d0478198940f"
      },
      "source": [
        "**Spliting data**\n",
        "\n",
        "Pisahkan dataset menjadi training dan testing dataset dengan perbandingan 80:20 dan random state 42!"
      ]
    },
    {
      "cell_type": "code",
      "execution_count": null,
      "id": "82fa6f4a-e143-4edf-ac4c-268144dc5750",
      "metadata": {
        "id": "82fa6f4a-e143-4edf-ac4c-268144dc5750",
        "colab": {
          "base_uri": "https://localhost:8080/"
        },
        "outputId": "643d316c-27b6-41df-d348-cf6038a9cd13"
      },
      "outputs": [
        {
          "output_type": "stream",
          "name": "stdout",
          "text": [
            "(226, 9)\n",
            "(57, 9)\n",
            "(226,)\n",
            "(57,)\n"
          ]
        }
      ],
      "source": [
        "'''TODO: Pisahkan data menjadi beberapa klasifikasi train dan testing'''\n",
        "# Mendefinisikan pemisahan data\n",
        "X_train, X_test, y_train, y_test = train_test_split(X_scaled , y, test_size=0.2, random_state=100)\n",
        "\n",
        "# Menampilkan hasil pemisahan berdasarkan kolom dan baris\n",
        "print(X_train.shape)\n",
        "print(X_test.shape)\n",
        "print(y_train.shape)\n",
        "print(y_test.shape)"
      ]
    },
    {
      "cell_type": "markdown",
      "id": "309491a0-8b75-45af-916b-46e690ffc710",
      "metadata": {
        "id": "309491a0-8b75-45af-916b-46e690ffc710"
      },
      "source": [
        "**Pemodelan dengan Heart Disease Dataset**\n",
        "\n",
        "Kita akan melakukan pemodelan untuk 4 model berbeda diantaranya logistic regression, decision tree, random forest dan neural networks."
      ]
    },
    {
      "cell_type": "code",
      "execution_count": null,
      "id": "1830864d-94b8-496e-846e-4afa5817627f",
      "metadata": {
        "id": "1830864d-94b8-496e-846e-4afa5817627f"
      },
      "outputs": [],
      "source": [
        "# Menyiapkan libraries\n",
        "from sklearn.linear_model import LogisticRegression\n",
        "from sklearn.tree import DecisionTreeClassifier\n",
        "from sklearn.ensemble import RandomForestClassifier\n",
        "from sklearn.metrics import accuracy_score, precision_score, recall_score, roc_curve, roc_auc_score\n",
        "from sklearn.neural_network import MLPClassifier\n",
        "from sklearn.model_selection import GridSearchCV"
      ]
    },
    {
      "cell_type": "code",
      "execution_count": null,
      "id": "9b3fdcf0-5735-4efa-adc8-66e465e098d7",
      "metadata": {
        "id": "9b3fdcf0-5735-4efa-adc8-66e465e098d7",
        "colab": {
          "base_uri": "https://localhost:8080/"
        },
        "outputId": "e82888a4-d453-4996-a499-aa43ac687d5e"
      },
      "outputs": [
        {
          "output_type": "stream",
          "name": "stdout",
          "text": [
            "The test accuracy score of Logistric Regression Classifier is  0.8070175438596491\n"
          ]
        }
      ],
      "source": [
        "'''TODO: Buatlah pengalian informasi Logistik Regresi dan hitung akurasinya'''\n",
        "clf = LogisticRegression()\n",
        "# train the classifier\n",
        "clf.fit(X_train, y_train)\n",
        "y_pred = clf.predict(X_test)\n",
        "# printing the test accuracy\n",
        "print(\"The test accuracy score of Logistric Regression Classifier is \", accuracy_score(y_test,y_pred))"
      ]
    },
    {
      "cell_type": "code",
      "execution_count": null,
      "id": "3e257d5d-5311-47d5-927e-45121c81af16",
      "metadata": {
        "id": "3e257d5d-5311-47d5-927e-45121c81af16",
        "colab": {
          "base_uri": "https://localhost:8080/"
        },
        "outputId": "50ccbded-1ea7-41c4-ecba-16ed2e99fa37"
      },
      "outputs": [
        {
          "output_type": "stream",
          "name": "stdout",
          "text": [
            "              precision    recall  f1-score   support\n",
            "\n",
            "           0       0.73      0.83      0.78        23\n",
            "           1       0.87      0.79      0.83        34\n",
            "\n",
            "    accuracy                           0.81        57\n",
            "   macro avg       0.80      0.81      0.80        57\n",
            "weighted avg       0.81      0.81      0.81        57\n",
            "\n"
          ]
        }
      ],
      "source": [
        "print(classification_report(y_test, y_pred))"
      ]
    },
    {
      "cell_type": "code",
      "execution_count": null,
      "id": "76baf47c-40af-4bad-8c79-4dcb9f470e31",
      "metadata": {
        "id": "76baf47c-40af-4bad-8c79-4dcb9f470e31",
        "colab": {
          "base_uri": "https://localhost:8080/"
        },
        "outputId": "2ff3f4e1-228b-4b89-9558-eb2de7938c29"
      },
      "outputs": [
        {
          "output_type": "stream",
          "name": "stdout",
          "text": [
            "The test accuracy score of Decision Tree Classifier is  0.7192982456140351\n"
          ]
        }
      ],
      "source": [
        "'''TODO: Buatlah pengalian informasi Decision Tree dan hitung akurasinya'''\n",
        "clf = DecisionTreeClassifier()\n",
        "# train the classifier\n",
        "clf.fit(X_train, y_train)\n",
        "y_pred = clf.predict(X_test)\n",
        "# printing the test accuracy\n",
        "print(\"The test accuracy score of Decision Tree Classifier is \", accuracy_score(y_test, y_pred))"
      ]
    },
    {
      "cell_type": "code",
      "execution_count": null,
      "id": "3e3c41eb-1025-4e1b-bf5a-7c3fc6641197",
      "metadata": {
        "id": "3e3c41eb-1025-4e1b-bf5a-7c3fc6641197",
        "colab": {
          "base_uri": "https://localhost:8080/"
        },
        "outputId": "b363102f-3725-405f-823f-fa7e1de0df59"
      },
      "outputs": [
        {
          "output_type": "stream",
          "name": "stdout",
          "text": [
            "              precision    recall  f1-score   support\n",
            "\n",
            "           0       0.65      0.65      0.65        23\n",
            "           1       0.76      0.76      0.76        34\n",
            "\n",
            "    accuracy                           0.72        57\n",
            "   macro avg       0.71      0.71      0.71        57\n",
            "weighted avg       0.72      0.72      0.72        57\n",
            "\n"
          ]
        }
      ],
      "source": [
        "print(classification_report(y_test, y_pred))"
      ]
    },
    {
      "cell_type": "code",
      "execution_count": null,
      "id": "7a230471-2cee-400a-8662-e03c2b867213",
      "metadata": {
        "id": "7a230471-2cee-400a-8662-e03c2b867213",
        "colab": {
          "base_uri": "https://localhost:8080/"
        },
        "outputId": "3fe17f38-ec04-4758-97f6-b1ced19bdd20"
      },
      "outputs": [
        {
          "output_type": "stream",
          "name": "stdout",
          "text": [
            "The test accuracy score of Random Forest Classifier is  0.8245614035087719\n"
          ]
        }
      ],
      "source": [
        "'''TODO: Buatlah pengalian informasi Random Forest dan hitung akurasinya'''\n",
        "clf = RandomForestClassifier()\n",
        "# train the classifier\n",
        "clf.fit(X_train, y_train)\n",
        "y_pred = clf.predict(X_test)\n",
        "# printing the test accuracy\n",
        "print(\"The test accuracy score of Random Forest Classifier is \", accuracy_score(y_test, y_pred))"
      ]
    },
    {
      "cell_type": "code",
      "execution_count": null,
      "id": "67cdbac4-4b33-41db-96cb-3ad7bcb2c0b7",
      "metadata": {
        "id": "67cdbac4-4b33-41db-96cb-3ad7bcb2c0b7",
        "colab": {
          "base_uri": "https://localhost:8080/"
        },
        "outputId": "14408a82-3a7f-44e7-9b5b-23cdeb251955"
      },
      "outputs": [
        {
          "output_type": "stream",
          "name": "stdout",
          "text": [
            "              precision    recall  f1-score   support\n",
            "\n",
            "           0       0.78      0.78      0.78        23\n",
            "           1       0.85      0.85      0.85        34\n",
            "\n",
            "    accuracy                           0.82        57\n",
            "   macro avg       0.82      0.82      0.82        57\n",
            "weighted avg       0.82      0.82      0.82        57\n",
            "\n"
          ]
        }
      ],
      "source": [
        "print(classification_report(y_test, y_pred))"
      ]
    },
    {
      "cell_type": "code",
      "execution_count": null,
      "id": "6b3267a6-42e4-474e-9ad4-294c2effa4bb",
      "metadata": {
        "id": "6b3267a6-42e4-474e-9ad4-294c2effa4bb",
        "colab": {
          "base_uri": "https://localhost:8080/"
        },
        "outputId": "45cfc5fa-f1d4-4260-9a46-45970b362693"
      },
      "outputs": [
        {
          "output_type": "stream",
          "name": "stdout",
          "text": [
            "The test accuracy score of MLP Classifier is  0.8421052631578947\n"
          ]
        }
      ],
      "source": [
        "'''TODO: Buatlah pengalian informasi MLP dan hitung akurasinya'''\n",
        "clf = MLPClassifier()\n",
        "# train the classifier\n",
        "clf.fit(X_train, y_train)\n",
        "y_pred = clf.predict(X_test)\n",
        "# printing the test accuracy\n",
        "print(\"The test accuracy score of MLP Classifier is \", accuracy_score(y_test, y_pred))"
      ]
    },
    {
      "cell_type": "code",
      "execution_count": null,
      "id": "a2658633-e3af-4371-857e-d4352b9fb9b0",
      "metadata": {
        "id": "a2658633-e3af-4371-857e-d4352b9fb9b0",
        "colab": {
          "base_uri": "https://localhost:8080/"
        },
        "outputId": "82ba44c7-c6ad-4c71-9fbe-a6882b699450"
      },
      "outputs": [
        {
          "output_type": "stream",
          "name": "stdout",
          "text": [
            "              precision    recall  f1-score   support\n",
            "\n",
            "           0       0.77      0.87      0.82        23\n",
            "           1       0.90      0.82      0.86        34\n",
            "\n",
            "    accuracy                           0.84        57\n",
            "   macro avg       0.84      0.85      0.84        57\n",
            "weighted avg       0.85      0.84      0.84        57\n",
            "\n"
          ]
        }
      ],
      "source": [
        "print(classification_report(y_test, y_pred))"
      ]
    },
    {
      "cell_type": "markdown",
      "id": "9dc7273e-250a-470d-bac2-7c74ec6a02d4",
      "metadata": {
        "id": "9dc7273e-250a-470d-bac2-7c74ec6a02d4"
      },
      "source": [
        "**Membandingkan hasil diatas**\n",
        "\n",
        "Berdasarkan hasil ke-4 model (Random Forest, Logistic Regression, Decision Tree dan Multi-layer Perceptron). Berikut didapatkan akurasi pada proses kali ini:\n",
        "- Pada model Decision Tree memiliki nilai akurasi terkecil sebesar 70% dengan recall sebesar 81%.\n",
        "- Random Forest memiliki nilai akurasi terbesar sebesar 84% dengan recall 84%."
      ]
    },
    {
      "cell_type": "markdown",
      "id": "401fb794-27ce-4da2-ba8d-6c8dc46d0493",
      "metadata": {
        "id": "401fb794-27ce-4da2-ba8d-6c8dc46d0493"
      },
      "source": [
        "![image.png](attachment:aecaa7ec-83c9-4a8e-a38a-d5326fad3d21.png)"
      ]
    },
    {
      "cell_type": "markdown",
      "id": "a2c329fc-9d40-44f8-8886-f45101357c1e",
      "metadata": {
        "id": "a2c329fc-9d40-44f8-8886-f45101357c1e"
      },
      "source": [
        "**Pojok Catatan**\n",
        "\n",
        "Recall: Kemampuan model untuk menemukan semua kasus relevan dimana kebanyakan penting untuk deteksi risiko tinggi (seperti deteksi kanker), recall adalah metrik evaluasi yang lebih penting daripada presisi.\n",
        "\n",
        "Dalam kasus prediksi gagal jantung, kita ingin menghindari false negatives sebanyak mungkin. Kasus false negative berarti masalah gagal jantung tidak terdeteksi, yang bisa sangat berbahaya. Dalam kasus penggunaan ini, false positives (seseorang yang sehat dengan diagnosis masalah jantung tidak sehat) tidak sepenting mencegah situasi ketika kita tidak mendeteksi masalah serius.\n",
        "\n",
        "**Proses Hyperparameter Tuning**"
      ]
    },
    {
      "cell_type": "code",
      "execution_count": null,
      "id": "86d7d153-3394-4ab4-99e2-10d818b514d6",
      "metadata": {
        "id": "86d7d153-3394-4ab4-99e2-10d818b514d6",
        "colab": {
          "base_uri": "https://localhost:8080/"
        },
        "outputId": "b3ee309a-ae08-4c0a-893e-943c1a3133cd"
      },
      "outputs": [
        {
          "output_type": "stream",
          "name": "stdout",
          "text": [
            "0.9102126984126985\n",
            "{'max_iter': 30, 'multi_class': 'auto', 'solver': 'lbfgs'}\n"
          ]
        }
      ],
      "source": [
        "'''TODO: Buatlah hyperparameter Logistik Regresi dan hitung akurasinya'''\n",
        "# Logistic regression classifier with hyperparameter\n",
        "clf = LogisticRegression()\n",
        "\n",
        "param_grid1 = {\n",
        "    'max_iter': [30,50,100,150],\n",
        "    'multi_class': ['auto'],\n",
        "    'solver' : ['lbfgs', 'newton-cholesky']\n",
        "}\n",
        "\n",
        "gs1 = GridSearchCV(\n",
        "        estimator= clf,\n",
        "        param_grid = param_grid1\n",
        ",\n",
        "        cv=5,\n",
        "        n_jobs=-1,\n",
        "        scoring='roc_auc'\n",
        ")\n",
        "\n",
        "fit_clf_lg = gs1.fit(X_train, y_train)\n",
        "\n",
        "print(fit_clf_lg.best_score_)\n",
        "print(fit_clf_lg.best_params_)"
      ]
    },
    {
      "cell_type": "code",
      "execution_count": null,
      "id": "f5b28c19-c044-41ee-b94b-23fb317f738d",
      "metadata": {
        "id": "f5b28c19-c044-41ee-b94b-23fb317f738d",
        "colab": {
          "base_uri": "https://localhost:8080/"
        },
        "outputId": "63713e8e-a747-4625-c0fb-87cd5fee8a7f"
      },
      "outputs": [
        {
          "output_type": "stream",
          "name": "stdout",
          "text": [
            "              precision    recall  f1-score   support\n",
            "\n",
            "           0       0.73      0.83      0.78        23\n",
            "           1       0.87      0.79      0.83        34\n",
            "\n",
            "    accuracy                           0.81        57\n",
            "   macro avg       0.80      0.81      0.80        57\n",
            "weighted avg       0.81      0.81      0.81        57\n",
            "\n"
          ]
        }
      ],
      "source": [
        "y_pred = fit_clf_lg.predict(X_test)\n",
        "print(classification_report(y_test, y_pred))"
      ]
    },
    {
      "cell_type": "markdown",
      "id": "a161affb-d7a7-4843-8d95-a287e38d685d",
      "metadata": {
        "id": "a161affb-d7a7-4843-8d95-a287e38d685d"
      },
      "source": [
        "Setelah dilakukan hyperparameter tuning model logistic regression terjadi peningkatan pada nilai akurasi walaupun tidak begitu signifikan. Nilai akurasi naik dari yang awalnya 81% menjadi 84%."
      ]
    },
    {
      "cell_type": "code",
      "execution_count": null,
      "id": "2ff989f1-9c22-42fb-b894-533efae59a23",
      "metadata": {
        "id": "2ff989f1-9c22-42fb-b894-533efae59a23",
        "colab": {
          "base_uri": "https://localhost:8080/"
        },
        "outputId": "343478ae-f532-4ffb-f0a8-b8a71eaf4b12"
      },
      "outputs": [
        {
          "output_type": "stream",
          "name": "stdout",
          "text": [
            "0.9203206349206349\n",
            "{'criterion': 'entropy', 'max_depth': 3, 'n_estimators': 100}\n"
          ]
        }
      ],
      "source": [
        "'''TODO: Buatlah hyperparameter Random Forest dan hitung akurasinya'''\n",
        "# Random Forest classifier with hyperparameter\n",
        "clf = RandomForestClassifier()\n",
        "\n",
        "param_grid1 = {'n_estimators': [100,200,300,400],\n",
        "               'max_depth': [3,5,7,9],\n",
        "               'criterion': ['gini','entropy']}\n",
        "\n",
        "gs1 = GridSearchCV(\n",
        "        estimator=clf,\n",
        "        param_grid = param_grid1,\n",
        "        cv=5,\n",
        "        n_jobs=-1,\n",
        "        scoring='roc_auc'\n",
        "    )\n",
        "\n",
        "fit_clf_rf = gs1.fit(X_train, y_train)\n",
        "\n",
        "print(fit_clf_rf.best_score_)\n",
        "print(fit_clf_rf.best_params_)"
      ]
    },
    {
      "cell_type": "code",
      "execution_count": null,
      "id": "c4fb0bfe-1186-406a-a30c-892440bfd2bd",
      "metadata": {
        "id": "c4fb0bfe-1186-406a-a30c-892440bfd2bd",
        "colab": {
          "base_uri": "https://localhost:8080/"
        },
        "outputId": "902687c4-60fa-4d66-cc8a-79b92941e810"
      },
      "outputs": [
        {
          "output_type": "stream",
          "name": "stdout",
          "text": [
            "              precision    recall  f1-score   support\n",
            "\n",
            "           0       0.78      0.78      0.78        23\n",
            "           1       0.85      0.85      0.85        34\n",
            "\n",
            "    accuracy                           0.82        57\n",
            "   macro avg       0.82      0.82      0.82        57\n",
            "weighted avg       0.82      0.82      0.82        57\n",
            "\n"
          ]
        }
      ],
      "source": [
        "y_pred = fit_clf_rf.predict(X_test)\n",
        "print(classification_report(y_test, y_pred))"
      ]
    },
    {
      "cell_type": "markdown",
      "id": "73f89beb-6466-49c2-860e-f2e8a5d44a2c",
      "metadata": {
        "id": "73f89beb-6466-49c2-860e-f2e8a5d44a2c"
      },
      "source": [
        "Setelah dilakukan model random forest dilakukan hyperparameter tuning akurasi model menurun menjadi 82% dari yang awalnya 84%. Turunnya akurasi tersebut bukan menunjukkan hyperparameter tuning yang kita lakukan gagal, melainkan hyperparameter tuning yang kita lakukan berhasil karena dengan begitu model menjadi sedikit lebih general atau tidak overfitting."
      ]
    },
    {
      "cell_type": "code",
      "execution_count": null,
      "id": "87198d46-5ec0-4e55-b35e-d19fd7b4ebfb",
      "metadata": {
        "id": "87198d46-5ec0-4e55-b35e-d19fd7b4ebfb",
        "colab": {
          "base_uri": "https://localhost:8080/"
        },
        "outputId": "be88f9ca-c2bd-481e-fc27-93ba033c75bc"
      },
      "outputs": [
        {
          "output_type": "stream",
          "name": "stdout",
          "text": [
            "0.8515079365079364\n",
            "{'criterion': 'gini', 'max_depth': 30, 'min_samples_leaf': 10}\n"
          ]
        }
      ],
      "source": [
        "'''TODO: Buatlah hyperparameter Decision Tree dan hitung akurasinya'''\n",
        "# Decision Tree classifier with hyperparameter\n",
        "clf = DecisionTreeClassifier()\n",
        "\n",
        "param_grid1 = {'min_samples_leaf': [1,10,100],\n",
        "               'max_depth': [1,10,20,30],\n",
        "               'criterion': ['gini', 'entropy']}\n",
        "\n",
        "gs1 = GridSearchCV(\n",
        "        estimator=clf,\n",
        "        param_grid = param_grid1,\n",
        "        cv=5,\n",
        "        n_jobs=-1,\n",
        "        scoring='roc_auc'\n",
        "    )\n",
        "\n",
        "fit_clf_dt = gs1.fit(X_train, y_train)\n",
        "\n",
        "print(fit_clf_dt.best_score_)\n",
        "print(fit_clf_dt.best_params_)"
      ]
    },
    {
      "cell_type": "code",
      "execution_count": null,
      "id": "8b6c48d9-2504-47ad-b483-db973ff3ed32",
      "metadata": {
        "id": "8b6c48d9-2504-47ad-b483-db973ff3ed32",
        "colab": {
          "base_uri": "https://localhost:8080/"
        },
        "outputId": "f1272fad-1e04-4315-990c-484b297e7a88"
      },
      "outputs": [
        {
          "output_type": "stream",
          "name": "stdout",
          "text": [
            "              precision    recall  f1-score   support\n",
            "\n",
            "           0       0.75      0.65      0.70        23\n",
            "           1       0.78      0.85      0.82        34\n",
            "\n",
            "    accuracy                           0.77        57\n",
            "   macro avg       0.77      0.75      0.76        57\n",
            "weighted avg       0.77      0.77      0.77        57\n",
            "\n"
          ]
        }
      ],
      "source": [
        "y_pred = fit_clf_dt.predict(X_test)\n",
        "print(classification_report(y_test, y_pred))"
      ]
    },
    {
      "cell_type": "markdown",
      "id": "8aa9315c-b907-490b-96e8-8992506aa87e",
      "metadata": {
        "id": "8aa9315c-b907-490b-96e8-8992506aa87e"
      },
      "source": [
        "Setelah dilakukan hyperparameter tuning model decision tree terjadi peningkatan pada nilai akurasi walaupun tidak begitu signifikan. Nilai akurasi naik dari yang awalnya 70% menjadi 77%."
      ]
    },
    {
      "cell_type": "code",
      "execution_count": null,
      "id": "4da7236d-3946-4d86-9704-2b43ca530dc8",
      "metadata": {
        "id": "4da7236d-3946-4d86-9704-2b43ca530dc8",
        "colab": {
          "base_uri": "https://localhost:8080/"
        },
        "outputId": "34e834c1-6ae9-4a1a-8c67-ed902541fd9d"
      },
      "outputs": [
        {
          "output_type": "stream",
          "name": "stdout",
          "text": [
            "0.8581642512077294\n",
            "{'activation': 'tanh', 'hidden_layer_sizes': 20, 'solver': 'sgd'}\n"
          ]
        }
      ],
      "source": [
        "'''TODO: Buatlah hyperparameter MLP dan hitung akurasinya'''\n",
        "# MLP Classifier with hyperparameter\n",
        "clf = MLPClassifier()\n",
        "\n",
        "param_grid1 = {'hidden_layer_sizes': [1,10,20,30],\n",
        "               'activation': ['tanh','relu'],\n",
        "               'solver': ['lbfgs', 'adam', 'sgd']}\n",
        "\n",
        "gs1 = GridSearchCV(\n",
        "        estimator=clf,\n",
        "        param_grid = param_grid1,\n",
        "        cv=5,\n",
        "        n_jobs=-1,\n",
        "        scoring='accuracy'\n",
        "    )\n",
        "\n",
        "fit_clf_mlp = gs1.fit(X_train, y_train)\n",
        "\n",
        "print(fit_clf_mlp.best_score_)\n",
        "print(fit_clf_mlp.best_params_)"
      ]
    },
    {
      "cell_type": "code",
      "execution_count": null,
      "id": "2f046fd2-a912-4335-bd6a-c0bab0b6682d",
      "metadata": {
        "id": "2f046fd2-a912-4335-bd6a-c0bab0b6682d",
        "colab": {
          "base_uri": "https://localhost:8080/"
        },
        "outputId": "db92f66e-b6cd-479e-81a0-c5e9f7beccce"
      },
      "outputs": [
        {
          "output_type": "stream",
          "name": "stdout",
          "text": [
            "              precision    recall  f1-score   support\n",
            "\n",
            "           0       0.74      0.87      0.80        23\n",
            "           1       0.90      0.79      0.84        34\n",
            "\n",
            "    accuracy                           0.82        57\n",
            "   macro avg       0.82      0.83      0.82        57\n",
            "weighted avg       0.84      0.82      0.83        57\n",
            "\n"
          ]
        }
      ],
      "source": [
        "y_pred = fit_clf_mlp.predict(X_test)\n",
        "print(classification_report(y_test, y_pred))"
      ]
    },
    {
      "cell_type": "markdown",
      "id": "d2224e4c-a21b-45c7-b4c1-41bcceb32c3d",
      "metadata": {
        "id": "d2224e4c-a21b-45c7-b4c1-41bcceb32c3d"
      },
      "source": [
        "Setelah dilakukan model random forest dilakukan hyperparameter tuning akurasi model menurun menjadi 81% dari yang awalnya 82%. Turunnya akurasi tersebut bukan menunjukkan hyperparameter tuning yang kita lakukan gagal, melainkan hyperparameter tuning yang kita lakukan berhasil karena dengan begitu model menjadi sedikit lebih general atau tidak overfitting."
      ]
    },
    {
      "cell_type": "markdown",
      "id": "4a9d7478-3ef7-44c6-b4db-d2d0e08520b4",
      "metadata": {
        "id": "4a9d7478-3ef7-44c6-b4db-d2d0e08520b4"
      },
      "source": [
        "**ROC Analysis**\n",
        "\n",
        "Kurva yang menyajikan ilustrasi performansi dari binary classifier system dalam menghasilkan sebuah prediksi"
      ]
    },
    {
      "cell_type": "code",
      "execution_count": null,
      "id": "5a911780-06c1-4dde-bbdd-ee9c118daa46",
      "metadata": {
        "id": "5a911780-06c1-4dde-bbdd-ee9c118daa46",
        "colab": {
          "base_uri": "https://localhost:8080/"
        },
        "outputId": "704e07d1-9ffd-4fc0-f2d9-44c4e3ce69b5"
      },
      "outputs": [
        {
          "output_type": "stream",
          "name": "stdout",
          "text": [
            "AUC-ROC for Logistic Regression: 0.8849104859335037\n",
            "AUC-ROC for Random Forest: 0.8989769820971867\n",
            "AUC-ROC for Decision Tree: 0.7851662404092071\n",
            "AUC-ROC for MLP: 0.8938618925831202\n"
          ]
        }
      ],
      "source": [
        "'''TODO: Silahkan buat ROC Analysis dari masing-masing model'''\n",
        "# Predict the probabilities for the positive class\n",
        "y_pred_logreg = fit_clf_lg.predict_proba(X_test)[:,1]\n",
        "y_pred_rf = fit_clf_rf.predict_proba(X_test)[:,1]\n",
        "y_pred_dt= fit_clf_dt.predict_proba(X_test)[:,1]\n",
        "y_pred_mlp= fit_clf_mlp.predict_proba(X_test)[:,1]\n",
        "\n",
        "# Calculate the AUC-ROC scores\n",
        "auc_logreg = roc_auc_score(y_test, y_pred_logreg)\n",
        "auc_rf = roc_auc_score(y_test, y_pred_rf)\n",
        "auc_dt = roc_auc_score(y_test, y_pred_dt)\n",
        "auc_mlp = roc_auc_score(y_test, y_pred_mlp)\n",
        "\n",
        "print(f\"AUC-ROC for Logistic Regression: {auc_logreg}\")\n",
        "print(f\"AUC-ROC for Random Forest: {auc_rf}\")\n",
        "print(f\"AUC-ROC for Decision Tree: {auc_dt}\")\n",
        "print(f\"AUC-ROC for MLP: {auc_mlp}\")"
      ]
    },
    {
      "cell_type": "markdown",
      "id": "48d8ab14-b0c8-4965-8ad3-218893ee24de",
      "metadata": {
        "id": "48d8ab14-b0c8-4965-8ad3-218893ee24de"
      },
      "source": [
        "Jika dilihat dari nilai AUC-ROC, model Random Forest memiliki nilai yang paling tinggi. Akan tetapi perbedaan nilai AUC-ROC Random Forest dengan 1 model lainnya tidak terpaut jauh dengan logistic regression.\n",
        "\n",
        "ROC adalah kurva probabilitas dan AUC mewakili tingkat atau ukuran pemisahan. Ini menunjukkan seberapa baik model mampu membedakan antara kelas. Semakin tinggi AUC, semakin baik modelnya dalam memprediksi kelas 0 sebagai 0 dan kelas 1 sebagai 1.\n",
        "\n",
        "Kurva ROC digambarkan dengan TPR (True Positive Rate) melawan FPR (False Positive Rate) di mana TPR berada di sumbu y dan FPR berada di sumbu x.\n",
        "\n",
        "Model yang sangat baik memiliki AUC mendekati 1, yang berarti memiliki ukuran pemisahan yang baik. Model yang buruk memiliki AUC mendekati 0, yang berarti memiliki ukuran pemisahan yang terburuk.\n",
        "\n",
        "Ketika AUC adalah 0.7, artinya ada peluang sebesar 70% bahwa model akan mampu membedakan antara kelas positif dan kelas negatif. Ketika AUC mendekati 0.5, model tidak memiliki kemampuan diskriminasi untuk membedakan antara kelas positif dan kelas negatif. Ketika AUC mendekati 0, model memprediksi kelas negatif sebagai kelas positif dan sebaliknya."
      ]
    },
    {
      "cell_type": "code",
      "execution_count": null,
      "id": "ead7f931-b0f9-4687-897a-6ed7d9966740",
      "metadata": {
        "id": "ead7f931-b0f9-4687-897a-6ed7d9966740",
        "colab": {
          "base_uri": "https://localhost:8080/",
          "height": 564
        },
        "outputId": "1020d5bf-85bf-45e0-ba5b-1f0fb5ac4444"
      },
      "outputs": [
        {
          "output_type": "display_data",
          "data": {
            "text/plain": [
              "<Figure size 800x600 with 1 Axes>"
            ],
            "image/png": "[encoded data removed]"
          },
          "metadata": {}
        }
      ],
      "source": [
        "'''TODO: Silahkan buat ROC Analysis Graph'''\n",
        "#Membuat ROC Analisis\n",
        "def plot_roc_curves(y_test, y_pred_logreg, y_pred_rf, y_pred_dt, y_pred_mlp):\n",
        "    plt.figure(figsize=(8, 6))\n",
        "\n",
        "    # Calculate ROC curves for each model\n",
        "    fpr_logreg, tpr_logreg, _ = roc_curve(y_test, y_pred_logreg)\n",
        "    fpr_rf, tpr_rf, _ = roc_curve(y_test, y_pred_rf)\n",
        "    fpr_dt, tpr_dt, _ = roc_curve(y_test, y_pred_dt)\n",
        "    fpr_mlp, tpr_mlp, _ = roc_curve(y_test, y_pred_mlp)\n",
        "\n",
        "    # Plot ROC curves\n",
        "    plt.plot(fpr_logreg, tpr_logreg, label=f'Logistic Regression (AUC = {auc_logreg:.2f})')\n",
        "    plt.plot(fpr_rf, tpr_rf, label=f'Random Forest (AUC = {auc_rf:.2f})')\n",
        "    plt.plot(fpr_dt, tpr_dt, label=f'Decision Tree (AUC = {auc_dt:.2f})')\n",
        "    plt.plot(fpr_mlp, tpr_mlp, label=f'MLP (AUC = {auc_mlp:.2f})')\n",
        "\n",
        "    # Plot random classifier\n",
        "    plt.plot([0,1],[0,1], linestyle=\"--\", color=\"grey\")\n",
        "\n",
        "    # Format the plot\n",
        "    plt.xlabel('False Positive Rate')\n",
        "    plt.ylabel('True Positive Rate')\n",
        "    plt.title('ROC Curves for Heart Disease Prediction Models')\n",
        "    plt.legend()\n",
        "    plt.show()\n",
        "\n",
        "plot_roc_curves(y_test, y_pred_logreg, y_pred_rf, y_pred_dt, y_pred_mlp)"
      ]
    },
    {
      "cell_type": "code",
      "execution_count": null,
      "id": "b50c4f10-ccfd-425d-bed6-f204eb9a8950",
      "metadata": {
        "id": "b50c4f10-ccfd-425d-bed6-f204eb9a8950",
        "colab": {
          "base_uri": "https://localhost:8080/"
        },
        "outputId": "973f9b28-375a-445d-e0ab-4fb7c0e2bbbd"
      },
      "outputs": [
        {
          "output_type": "stream",
          "name": "stdout",
          "text": [
            "    Threshold  FPR_logreg    FPR_FR    FPR_DT   FPR_MLP  TPR_logreg    TPR_FR  \\\n",
            "0         0.0    1.000000  1.000000  0.565217  1.000000    1.000000  1.000000   \n",
            "1         0.1    0.478261  0.782609  0.521739  0.608696    0.970588  1.000000   \n",
            "2         0.2    0.347826  0.608696  0.521739  0.391304    0.970588  1.000000   \n",
            "3         0.3    0.217391  0.478261  0.391304  0.260870    0.941176  0.970588   \n",
            "4         0.4    0.173913  0.347826  0.347826  0.217391    0.794118  0.941176   \n",
            "5         0.5    0.173913  0.217391  0.347826  0.130435    0.794118  0.852941   \n",
            "6         0.6    0.130435  0.086957  0.304348  0.130435    0.764706  0.764706   \n",
            "7         0.7    0.130435  0.086957  0.217391  0.086957    0.676471  0.647059   \n",
            "8         0.8    0.086957  0.043478  0.217391  0.086957    0.647059  0.411765   \n",
            "9         0.9    0.086957  0.000000  0.173913  0.086957    0.411765  0.117647   \n",
            "10        1.0    0.000000  0.000000  0.000000  0.000000    0.000000  0.000000   \n",
            "\n",
            "      TPR_DT   TPR_MLP  \n",
            "0   0.941176  1.000000  \n",
            "1   0.941176  1.000000  \n",
            "2   0.911765  0.970588  \n",
            "3   0.911765  0.941176  \n",
            "4   0.852941  0.911765  \n",
            "5   0.852941  0.794118  \n",
            "6   0.794118  0.794118  \n",
            "7   0.470588  0.705882  \n",
            "8   0.470588  0.647059  \n",
            "9   0.382353  0.352941  \n",
            "10  0.000000  0.000000  \n"
          ]
        }
      ],
      "source": [
        "'''TODO: Silahkan buat ROC Analysis Graph untuk menentukan treshold'''\n",
        "def find_rates_for_thresholds(y_test, y_pred, threshold):\n",
        "    fpr_list = []\n",
        "    tpr_list = []\n",
        "    for threshold in thresholds:\n",
        "        y_pred_binary = (y_pred > threshold).astype(int)\n",
        "        tn, fp, fn, tp = confusion_matrix(y_test, y_pred_binary).ravel()\n",
        "        fpr = fp / (fp + tn)\n",
        "        tpr = tp / (tp + fn)\n",
        "        fpr_list.append(fpr)\n",
        "        tpr_list.append(tpr)\n",
        "    return fpr_list, tpr_list\n",
        "\n",
        "thresholds = np.arange(0, 1.1, 0.1)\n",
        "\n",
        "fpr_logreg, tpr_logreg = find_rates_for_thresholds(y_test, y_pred_logreg, thresholds)\n",
        "fpr_rf, tpr_rf = find_rates_for_thresholds(y_test, y_pred_rf, thresholds)\n",
        "fpr_dt, tpr_dt = find_rates_for_thresholds(y_test, y_pred_dt, thresholds)\n",
        "fpr_mlp, tpr_mlp = find_rates_for_thresholds(y_test, y_pred_mlp, thresholds)\n",
        "\n",
        "'''TODO: Silahkan buat Summary DataFrame'''\n",
        "summary_df = pd.DataFrame({\n",
        "    'Threshold': thresholds,\n",
        "    'FPR_logreg': fpr_logreg,\n",
        "    'FPR_FR': fpr_rf,\n",
        "    'FPR_DT': fpr_dt,\n",
        "    'FPR_MLP': fpr_mlp,\n",
        "    'TPR_logreg': tpr_logreg,\n",
        "    'TPR_FR': tpr_rf,\n",
        "    'TPR_DT': tpr_dt,\n",
        "    'TPR_MLP': tpr_mlp\n",
        "})\n",
        "\n",
        "print(summary_df)"
      ]
    },
    {
      "cell_type": "code",
      "execution_count": null,
      "id": "8382f1d9-72c3-4100-b1b5-5f1ad79c5b8b",
      "metadata": {
        "id": "8382f1d9-72c3-4100-b1b5-5f1ad79c5b8b",
        "colab": {
          "base_uri": "https://localhost:8080/"
        },
        "outputId": "f6cf79f6-7d18-487c-a98f-8a4f51b6e025"
      },
      "outputs": [
        {
          "output_type": "stream",
          "name": "stdout",
          "text": [
            "Best threshold for Logistic Regression: 0.3493650804041196\n",
            "Best threshold for Random Forest: 0.46724007496523695\n",
            "Best threshold for Decision Tree: 0.36363636363636365\n",
            "Best threshold for MLP: 0.3861546102405442\n"
          ]
        }
      ],
      "source": [
        "'''TODO: Silahkan buat ROC Analysis Graph untuk menentukan best treshold'''\n",
        "def find_best_threshold(y_test, y_pred):\n",
        "    # based on Youden's Index\n",
        "    fpr, tpr, thresholds = roc_curve(y_test, y_pred)\n",
        "    optimal_idx = np.argmax(tpr-fpr)\n",
        "    return thresholds[optimal_idx]\n",
        "\n",
        "best_threshold_logreg = find_best_threshold(y_test, y_pred_logreg)\n",
        "best_threshold_rf = find_best_threshold(y_test, y_pred_rf)\n",
        "best_threshold_dt = find_best_threshold(y_test, y_pred_dt)\n",
        "best_threshold_mlp = find_best_threshold(y_test, y_pred_mlp)\n",
        "\n",
        "print(f\"Best threshold for Logistic Regression: {best_threshold_logreg}\")\n",
        "print(f\"Best threshold for Random Forest: {best_threshold_rf}\")\n",
        "print(f\"Best threshold for Decision Tree: {best_threshold_dt}\")\n",
        "print(f\"Best threshold for MLP: {best_threshold_mlp}\")"
      ]
    },
    {
      "cell_type": "markdown",
      "id": "ba5cc07e-e9bd-45d8-80b6-3ce8bda6e46a",
      "metadata": {
        "id": "ba5cc07e-e9bd-45d8-80b6-3ce8bda6e46a"
      },
      "source": [
        "**Ingat**\n",
        "\n",
        "1. Jika kita menginginkan model yang memiliki sensitivitas yang tinggi, yaitu kemampuan untuk mendeteksi sebanyak mungkin kasus positif (True Positive), maka lebih baik menggunakan treshold yang lebih rendah. Namun, ini mungkin juga akan menyebabkan peningkatan False Positive Rate (kasus negatif yang salah diprediksi positif).\n",
        "2. Sebaliknya, jika kita ingin mengurangi kesalahan dalam memprediksi kasus negatif sebagai positif (False Positive), maka kita akan memilih treshold yang lebih tinggi. Namun, ini dapat mengurangi sensitivitas model (menyebabkan lebih banyak True Negative yang salah diprediksi negatif).\n",
        "\n",
        "Jadi dapat disimpulkan, bahwa model yang peformanya lebih bagus ialah model Random Forest dengan ditandai dengan model Random Forest yang memiliki nilai akurasi pada classification report tertinggi, yaitu sebesar 82% dan Model Random Forest memiliki score AUC-ROC Terbesar dibandingkan 3 model lainnya, yaitu sebesar 90%, namun model ini memiliki treshold yang tinggi dimana akan meningkatkan FPR (Kasus negatif yang salah diprediksi positif)."
      ]
    },
    {
      "cell_type": "code",
      "execution_count": null,
      "id": "fb6a3d83-13c6-48ce-9ae7-0490981436c1",
      "metadata": {
        "id": "fb6a3d83-13c6-48ce-9ae7-0490981436c1"
      },
      "outputs": [],
      "source": [
        "'''TODO: Silahkan simpan model yang kamu miliki'''\n",
        "import pickle\n",
        "# Menyimpan model terbaik dengan pickle\n",
        "pklname = 'best_model_capstone.pkl'\n",
        "\n",
        "with open(pklname, 'wb') as file:\n",
        "    pickle.dump(fit_clf_rf, file)"
      ]
    },
    {
      "cell_type": "markdown",
      "id": "866707c5-4161-4a52-8449-66be7c6654d5",
      "metadata": {
        "id": "866707c5-4161-4a52-8449-66be7c6654d5"
      },
      "source": [
        "Copyright © DQlab Academy x Abel Kristanto"
      ]
    }
  ],
  "metadata": {
    "kernelspec": {
      "display_name": "Python 3 (ipykernel)",
      "language": "python",
      "name": "python3"
    },
    "language_info": {
      "codemirror_mode": {
        "name": "ipython",
        "version": 3
      },
      "file_extension": ".py",
      "mimetype": "text/x-python",
      "name": "python",
      "nbconvert_exporter": "python",
      "pygments_lexer": "ipython3",
      "version": "3.11.4"
    },
    "colab": {
      "provenance": []
    }
  },
  "nbformat": 4,
  "nbformat_minor": 5
}